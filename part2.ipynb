{
 "cells": [
  {
   "cell_type": "code",
   "execution_count": null,
   "metadata": {},
   "outputs": [],
   "source": [
    "import cv2\n",
    "import numpy as np\n",
    "import matplotlib.pyplot as plt\n",
    "from tqdm import tqdm \n",
    "import os"
   ]
  },
  {
   "cell_type": "code",
   "execution_count": null,
   "metadata": {},
   "outputs": [],
   "source": [
    "att_img = \"tickets/0022.bmp\"\n",
    "att_img = cv2.imread(att_img, cv2.IMREAD_GRAYSCALE)\n",
    "\n",
    "plt.imshow(att_img, cmap='gray')"
   ]
  },
  {
   "cell_type": "code",
   "execution_count": null,
   "metadata": {},
   "outputs": [],
   "source": [
    "r, c = att_img.shape\n",
    "crop_img = att_img[int(r*0.5):r-10, int(c*0.7): c-10] # 裁剪比例，右下角约八分之一\n",
    "\n",
    "plt.imshow(crop_img, cmap='gray')"
   ]
  },
  {
   "cell_type": "code",
   "execution_count": null,
   "metadata": {},
   "outputs": [],
   "source": [
    "blurred_img = cv2.medianBlur(crop_img, 5)\n",
    "# 直接对原图二值化 比 对滤波后的图二值化 得到的边更平直，还要滤波吗\n",
    "_, thres_img = cv2.threshold(crop_img, 80, 255, cv2.THRESH_BINARY)\n",
    "\n",
    "kernel = cv2.getStructuringElement(cv2.MORPH_RECT, (8, 8)) # 结构元大小：01、02、22、85、93数字和二维码容易粘连\n",
    "morphed_img = cv2.morphologyEx(thres_img, cv2.MORPH_OPEN, kernel) # 为什么不是闭操作而是开操作\n",
    "\n",
    "plt.imshow(morphed_img, cmap='gray')"
   ]
  },
  {
   "cell_type": "code",
   "execution_count": null,
   "metadata": {},
   "outputs": [],
   "source": [
    "canny = cv2.Canny(morphed_img, 40, 150) \n",
    "\n",
    "contour_img = cv2.cvtColor(crop_img, cv2.COLOR_GRAY2BGR)\n",
    "contours, _ = cv2.findContours(canny, cv2.RETR_EXTERNAL, cv2.CHAIN_APPROX_SIMPLE)\n",
    "contour_img = cv2.drawContours(contour_img, contours, -1, (255, 0, 0), 1)\n",
    "\n",
    "plt.imshow(contour_img, cmap='gray')"
   ]
  },
  {
   "cell_type": "code",
   "execution_count": null,
   "metadata": {},
   "outputs": [],
   "source": []
  },
  {
   "cell_type": "code",
   "execution_count": null,
   "metadata": {},
   "outputs": [],
   "source": []
  }
 ],
 "metadata": {
  "kernelspec": {
   "display_name": "Python 3",
   "language": "python",
   "name": "python3"
  },
  "language_info": {
   "codemirror_mode": {
    "name": "ipython",
    "version": 3
   },
   "file_extension": ".py",
   "mimetype": "text/x-python",
   "name": "python",
   "nbconvert_exporter": "python",
   "pygments_lexer": "ipython3",
   "version": "3.6.12-final"
  }
 },
 "nbformat": 4,
 "nbformat_minor": 4
}