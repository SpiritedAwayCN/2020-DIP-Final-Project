{
 "cells": [
  {
   "cell_type": "code",
   "execution_count": null,
   "metadata": {},
   "outputs": [],
   "source": [
    "import cv2\n",
    "import numpy as np\n",
    "import matplotlib.pyplot as plt\n",
    "from tqdm import tqdm     # pip3/pip/conda install tqdm\n",
    "import os"
   ]
  },
  {
   "cell_type": "code",
   "execution_count": null,
   "metadata": {},
   "outputs": [],
   "source": [
    "att_img = \"train/0075.bmp\"\n",
    "att_img = cv2.imread(att_img, cv2.IMREAD_GRAYSCALE)\n",
    "padding = 100\n",
    "att_img = np.pad(att_img, ((padding, padding), (padding, padding)), 'constant', constant_values=(0, 0))\n",
    "\n",
    "plt.imshow(att_img, cmap='gray')"
   ]
  },
  {
   "cell_type": "code",
   "execution_count": null,
   "metadata": {},
   "outputs": [],
   "source": [
    "# 滤波前是否需要中值滤波？\n",
    "blurred_img = cv2.medianBlur(att_img, 5)\n",
    "\n",
    "_, thres_img = cv2.threshold(blurred_img, 80, 255, cv2.THRESH_BINARY)\n",
    "plt.imshow(thres_img, cmap='gray')"
   ]
  },
  {
   "cell_type": "code",
   "execution_count": null,
   "metadata": {},
   "outputs": [],
   "source": [
    "kernel = cv2.getStructuringElement(cv2.MORPH_RECT, (10, 10)) # 参数是否可以自适应\n",
    "morphed_img = cv2.morphologyEx(thres_img, cv2.MORPH_CLOSE, kernel)\n",
    "\n",
    "plt.imshow(morphed_img, cmap='gray')"
   ]
  },
  {
   "cell_type": "code",
   "execution_count": null,
   "metadata": {},
   "outputs": [],
   "source": [
    "# https://www.jb51.net/article/164348.htm\n",
    "canny = cv2.Canny(morphed_img, 40, 150)\n",
    "\n",
    "contour_img = cv2.cvtColor(att_img, cv2.COLOR_GRAY2BGR)\n",
    "contours, _ = cv2.findContours(canny, cv2.RETR_EXTERNAL, cv2.CHAIN_APPROX_SIMPLE)\n",
    "contour_img = cv2.drawContours(contour_img, contours, -1, (255, 0, 0), 3)\n",
    "\n",
    "plt.imshow(contour_img)"
   ]
  },
  {
   "cell_type": "code",
   "execution_count": null,
   "metadata": {},
   "outputs": [],
   "source": [
    "def solve(p1, p2, p3, p4):\n",
    "    A = np.array([[p2[1]-p1[1], p1[0]-p2[0]], [p4[1]-p3[1], p3[0]-p4[0]]])\n",
    "    B1 = np.array([[(p2[1]-p1[1])*p1[0]+(p1[0]-p2[0])*p1[1], p1[0]-p2[0]], \n",
    "                  [(p4[1]-p3[1])*p3[0]+(p3[0]-p4[0])*p3[1], p3[0]-p4[0]]])\n",
    "    B2 = np.array([[p2[1]-p1[1], (p2[1]-p1[1])*p1[0]+(p1[0]-p2[0])*p1[1]],\n",
    "                  [p4[1]-p3[1], (p4[1]-p3[1])*p3[0]+(p3[0]-p4[0])*p3[1]]])\n",
    "    A, B1, B2 = map(lambda x: np.linalg.det(x), (A, B1, B2))\n",
    "    return B1/A, B2/A\n",
    "\n",
    "def handle_not_rect(points):\n",
    "    new_points = np.zeros((points.shape[0] - 1, points.shape[1]))\n",
    "    dist_list = [np.linalg.norm(points[i] - points[i - 1]) for i in range(points.shape[0])]\n",
    "    i = np.argmin(np.array(dist_list)) # 缩点(i-2, i-1), (i, i+1)\n",
    "    x, y = solve(points[i-2], points[i-1], points[i], points[(i+1)%points.shape[0]])\n",
    "    # print(new_points[:i-1, :].shape, points[:i-1, :].shape, i)\n",
    "    if i > 0:\n",
    "        new_points[:i-1, :] = points[:i-1, :]\n",
    "    new_points[i-1, :] = np.array([x, y])\n",
    "    new_points[i:, :] = points[i+1:, :]\n",
    "    return new_points\n"
   ]
  },
  {
   "cell_type": "code",
   "execution_count": null,
   "metadata": {},
   "outputs": [],
   "source": [
    "max_contour ,max_area = 0, 0\n",
    "for contour in contours:\n",
    "    tmp = cv2.contourArea(contour)\n",
    "    if tmp > max_area:\n",
    "        max_contour, max_area = contour, tmp\n",
    "print(max_contour.shape)\n",
    "max_contour = max_contour[::-1, :, :]\n",
    "\n",
    "# robustness：如果不是4怎么办   0.02来自于网络\n",
    "poly_contour = cv2.approxPolyDP(max_contour, 0.02 * cv2.arcLength(max_contour, True), True)\n",
    "# assert(len(poly_contour) == 4)\n",
    "print(poly_contour)\n",
    "\n",
    "shape_x, shape_y = int(856 / 1.5), int(540 / 1.5) # 蓝票标准长宽比\n",
    "points = poly_contour.squeeze()\n",
    "while points.shape[0] > 4:\n",
    "    points = handle_not_rect(points)\n",
    "print(points)\n",
    "\n",
    "contour_img = cv2.cvtColor(att_img, cv2.COLOR_GRAY2BGR)\n",
    "contour_img = cv2.drawContours(contour_img, [poly_contour], -1, (255, 0, 0), 3)\n",
    "plt.imshow(contour_img)"
   ]
  },
  {
   "cell_type": "code",
   "execution_count": null,
   "metadata": {},
   "outputs": [],
   "source": [
    "c = np.cross(points[1]-points[0], points[2]-points[1])\n",
    "if c > 0:   # 修正为右旋标价\n",
    "    points = points[::-1, :]\n",
    "\n",
    "len1 = np.linalg.norm(points[0] - points[1])\n",
    "len2 = np.linalg.norm(points[1] - points[2])\n",
    "if len1 >= len2:    # 短边优先\n",
    "    points = np.roll(points, 1, axis=0)\n",
    "\n",
    "if points[0][0] > points[2][0]: # y值小的优先\n",
    "    points = np.roll(points, 2, axis=0)\n",
    "print(points, poly_contour.shape)\n",
    "\n",
    "poly_contour2 = points.reshape((4, 1, 2)).astype(np.int32)\n",
    "contour_img = cv2.cvtColor(att_img, cv2.COLOR_GRAY2BGR)\n",
    "contour_img = cv2.drawContours(contour_img, [poly_contour2], -1, (255, 0, 0), 3)\n",
    "plt.imshow(contour_img)\n"
   ]
  },
  {
   "cell_type": "code",
   "execution_count": null,
   "metadata": {},
   "outputs": [],
   "source": [
    "outer_x, outer_y = 20, 20\n",
    "\n",
    "N = np.array([[outer_x, outer_y], [outer_x, shape_y - outer_y], \n",
    "            [shape_x - outer_x, shape_y - outer_y], [shape_x - outer_x, outer_y]])\n",
    "mat = cv2.getPerspectiveTransform(points.astype(np.float32), N.astype(np.float32))\n",
    "output1 = cv2.warpPerspective(att_img, mat, (shape_x, shape_y))\n",
    "plt.imshow(output1, cmap='gray')\n",
    "\n"
   ]
  },
  {
   "cell_type": "markdown",
   "metadata": {},
   "source": [
    "最后用霍夫变换fix一下"
   ]
  },
  {
   "cell_type": "code",
   "execution_count": null,
   "metadata": {},
   "outputs": [],
   "source": [
    "blurred_img = cv2.medianBlur(output1, 5)\n",
    "_, thres_img = cv2.threshold(blurred_img, 80, 255, cv2.THRESH_BINARY)\n",
    "\n",
    "kernel = cv2.getStructuringElement(cv2.MORPH_RECT, (10, 10))\n",
    "morphed_img = cv2.morphologyEx(thres_img, cv2.MORPH_CLOSE, kernel)\n",
    "\n",
    "canny = cv2.Canny(morphed_img, 40, 150)\n",
    "plt.imshow(canny, cmap='gray')"
   ]
  },
  {
   "cell_type": "code",
   "execution_count": null,
   "metadata": {},
   "outputs": [],
   "source": [
    "def rotate_if_reversed(input_img):\n",
    "    img = cv2.medianBlur(input_img, 5)\n",
    "    _, img = cv2.threshold(img, 80, 255, cv2.THRESH_BINARY)\n",
    "\n",
    "    r, c = img.shape\n",
    "    lu = img[outer_y>>1: int(shape_y*0.4), outer_x>>1: int(shape_x*0.25)]\n",
    "    rd = img[r-int(shape_y*0.4):r-(outer_y>>1), c-int(shape_x*0.25): c-(outer_x>>1)]\n",
    "    if(np.mean(lu) < np.mean(rd)):\n",
    "        input_img = cv2.flip(input_img, -1)\n",
    "    return input_img"
   ]
  },
  {
   "cell_type": "code",
   "execution_count": null,
   "metadata": {},
   "outputs": [],
   "source": [
    "lines = cv2.HoughLines(canny, 1, np.pi / 180, 100)\n",
    "# print(lines)\n",
    "lines = lines.squeeze()\n",
    "\n",
    "angle, cnt = 0, 0\n",
    "for _, theta in lines:\n",
    "    theta = theta * 180 / np.pi - 90\n",
    "    if np.abs(theta) < 10:\n",
    "        angle = angle * cnt + theta\n",
    "        cnt += 1\n",
    "        angle /= cnt\n",
    "mat = cv2.getRotationMatrix2D((shape_x/2, shape_y/2), angle, 1)\n",
    "fixed_img = cv2.warpAffine(output1, mat, (shape_x, shape_y))\n",
    "\n",
    "# 裁剪一下边缘\n",
    "output = fixed_img[outer_y>>1:shape_y-(outer_y>>1), outer_x>>1:shape_x-(outer_x>>1)]\n",
    "output = rotate_if_reversed(output)\n",
    "\n",
    "plt.imshow(output, cmap='gray')"
   ]
  },
  {
   "cell_type": "markdown",
   "metadata": {},
   "source": [
    "以下是上述操作的汇总"
   ]
  },
  {
   "cell_type": "code",
   "execution_count": null,
   "metadata": {},
   "outputs": [],
   "source": [
    "def extract_ticket(att_img):\n",
    "    padding = 100\n",
    "    att_img = np.pad(att_img, ((padding, padding), (padding, padding)), 'constant', constant_values=(0, 0))\n",
    "    blurred_img = cv2.medianBlur(att_img, 5)\n",
    "    _, thres_img = cv2.threshold(blurred_img, 80, 255, cv2.THRESH_BINARY)\n",
    "\n",
    "    kernel = cv2.getStructuringElement(cv2.MORPH_RECT, (10, 10))\n",
    "    morphed_img = cv2.morphologyEx(thres_img, cv2.MORPH_CLOSE, kernel)\n",
    "\n",
    "    canny = cv2.Canny(morphed_img, 40, 150)\n",
    "    contours, _ = cv2.findContours(canny, cv2.RETR_EXTERNAL, cv2.CHAIN_APPROX_SIMPLE)\n",
    "\n",
    "    max_contour ,max_area = 0, 0\n",
    "    for contour in contours:\n",
    "        tmp = cv2.contourArea(contour)\n",
    "        if tmp > max_area:\n",
    "            max_contour, max_area = contour, tmp\n",
    "\n",
    "    poly_contour = cv2.approxPolyDP(max_contour, 0.02 * cv2.arcLength(max_contour, True), True)\n",
    "    points = poly_contour.squeeze()\n",
    "    while points.shape[0] > 4:\n",
    "        points = handle_not_rect(points)\n",
    "\n",
    "    shape_x, shape_y = int(856 / 1.5), int(540 / 1.5) # 蓝票标准长宽比\n",
    "\n",
    "    c = np.cross(points[1]-points[0], points[2]-points[1])\n",
    "    if c > 0:   # 修正为右旋标价\n",
    "        points = points[::-1, :]\n",
    "\n",
    "    len1 = np.linalg.norm(points[0] - points[1])\n",
    "    len2 = np.linalg.norm(points[1] - points[2])\n",
    "    if len1 >= len2:    # 短边优先\n",
    "        points = np.roll(points, 1, axis=0)\n",
    "\n",
    "    if points[0][0] > points[2][0]: # y值小的优先\n",
    "        points = np.roll(points, 2, axis=0)\n",
    "    \n",
    "    outer_x, outer_y = 20, 20\n",
    "\n",
    "    N = np.array([[outer_x, outer_y], [outer_x, shape_y - outer_y], \n",
    "                [shape_x - outer_x, shape_y - outer_y], [shape_x - outer_x, outer_y]])\n",
    "    mat = cv2.getPerspectiveTransform(points.astype(np.float32), N.astype(np.float32))\n",
    "    return cv2.warpPerspective(att_img, mat, (shape_x, shape_y))"
   ]
  },
  {
   "cell_type": "code",
   "execution_count": null,
   "metadata": {},
   "outputs": [],
   "source": [
    "def hoffle_fix(output1):\n",
    "    blurred_img = cv2.medianBlur(output1, 5)\n",
    "    _, thres_img = cv2.threshold(blurred_img, 80, 255, cv2.THRESH_BINARY)\n",
    "\n",
    "    kernel = cv2.getStructuringElement(cv2.MORPH_RECT, (10, 10))\n",
    "    morphed_img = cv2.morphologyEx(thres_img, cv2.MORPH_CLOSE, kernel)\n",
    "\n",
    "    canny = cv2.Canny(morphed_img, 40, 150)\n",
    "\n",
    "    lines = cv2.HoughLines(canny, 1, np.pi / 180, 100)\n",
    "    lines = lines.squeeze()\n",
    "\n",
    "    angle, cnt = 0, 0\n",
    "    for _, theta in lines:\n",
    "        theta = theta * 180 / np.pi - 90\n",
    "        if np.abs(theta) < 10:\n",
    "            angle = angle * cnt + theta\n",
    "            cnt += 1\n",
    "            angle /= cnt\n",
    "    mat = cv2.getRotationMatrix2D((shape_x/2, shape_y/2), angle, 1)\n",
    "    fixed_img = cv2.warpAffine(output1, mat, (shape_x, shape_y))\n",
    "\n",
    "    # 裁剪一下边缘\n",
    "    return fixed_img[outer_y>>1:shape_y-(outer_y>>1), outer_x>>1:shape_x-(outer_x>>1)]"
   ]
  },
  {
   "cell_type": "markdown",
   "metadata": {},
   "source": [
    "在所有训练集上跑："
   ]
  },
  {
   "cell_type": "code",
   "execution_count": null,
   "metadata": {},
   "outputs": [],
   "source": [
    "input_path = \"./train\"\n",
    "output_path = \"./tickets\"\n",
    "\n",
    "if not os.path.exists(output_path):\n",
    "    os.mkdir(output_path)\n",
    "\n",
    "for file_name in tqdm(os.listdir(input_path)):\n",
    "    try:\n",
    "        img = cv2.imread(os.path.join(input_path, file_name), cv2.IMREAD_GRAYSCALE)\n",
    "        ticket_img = extract_ticket(img)\n",
    "        ticket_img = hoffle_fix(ticket_img)\n",
    "        ticket_img = rotate_if_reversed(ticket_img)\n",
    "        cv2.imwrite(os.path.join(output_path, file_name), ticket_img)\n",
    "    except RuntimeError as e:\n",
    "        print(\"\\nFail at {}: {}, skipped\".format(file_name, e.args[0]))\n",
    "print('\\ndone!')"
   ]
  },
  {
   "cell_type": "code",
   "execution_count": null,
   "metadata": {},
   "outputs": [],
   "source": []
  }
 ],
 "metadata": {
  "kernelspec": {
   "display_name": "Python 3",
   "language": "python",
   "name": "python3"
  },
  "language_info": {
   "codemirror_mode": {
    "name": "ipython",
    "version": 3
   },
   "file_extension": ".py",
   "mimetype": "text/x-python",
   "name": "python",
   "nbconvert_exporter": "python",
   "pygments_lexer": "ipython3",
   "version": "3.8.6-final"
  }
 },
 "nbformat": 4,
 "nbformat_minor": 2
}